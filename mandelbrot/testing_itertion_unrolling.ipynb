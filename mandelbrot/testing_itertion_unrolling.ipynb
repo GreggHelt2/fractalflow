{
 "cells": [
  {
   "cell_type": "code",
   "execution_count": 1,
   "metadata": {},
   "outputs": [],
   "source": [
    "import tensorflow as tf\n",
    "import numpy as np\n",
    "sess = tf.InteractiveSession()"
   ]
  },
  {
   "cell_type": "code",
   "execution_count": 2,
   "metadata": {},
   "outputs": [],
   "source": [
    "# convenience function for clearing graph and starting a new session\n",
    "def reset():\n",
    "    global sess\n",
    "    sess.close()\n",
    "    tf.reset_default_graph()\n",
    "    sess = tf.InteractiveSession()\n",
    "def ops():\n",
    "    return tf.get_default_graph().get_operations()\n",
    "def tensors():\n",
    "    return tf.get_default_graph().get_tensors()\n"
   ]
  },
  {
   "cell_type": "code",
   "execution_count": 3,
   "metadata": {
    "scrolled": true
   },
   "outputs": [
    {
     "name": "stdout",
     "output_type": "stream",
     "text": [
      "numpy A: shape = (3, 5) dtype = float64\n",
      "[[ 2.  2.  2.  2.  2.]\n",
      " [ 2.  2.  2.  2.  2.]\n",
      " [ 2.  2.  2.  2.  2.]]\n",
      "numpy B: shape = (5, 2) dtype = float64\n",
      "[[ 7.  7.]\n",
      " [ 7.  7.]\n",
      " [ 7.  7.]\n",
      " [ 7.  7.]\n",
      " [ 7.  7.]]\n",
      "numpy C: shape = (3, 2) dtype = float64\n",
      "[[ 70.  70.]\n",
      " [ 70.  70.]\n",
      " [ 70.  70.]]\n"
     ]
    }
   ],
   "source": [
    "nA = np.full([3,5],2.0)\n",
    "nB = np.full([5,2],7.0)\n",
    "# nC = nA * nB   # shape error\n",
    "# nC = nA + nB   # shape error\n",
    "nC = np.matmul(nA,nB)\n",
    "print(\"numpy A: shape =\", np.shape(nA), \"dtype =\", nA.dtype.name)\n",
    "print(nA)\n",
    "print(\"numpy B: shape =\", np.shape(nB), \"dtype =\", nB.dtype.name)\n",
    "print(nB)\n",
    "print(\"numpy C: shape =\", np.shape(nC), \"dtype =\", nC.dtype.name)\n",
    "print(nC)\n"
   ]
  },
  {
   "cell_type": "code",
   "execution_count": 4,
   "metadata": {},
   "outputs": [
    {
     "name": "stdout",
     "output_type": "stream",
     "text": [
      "A: shape = (3, 5) optype = <class 'tensorflow.python.ops.variables.Variable'> dtype = float64_ref\n",
      "B: shape = (5, 2) optype = <class 'tensorflow.python.ops.variables.Variable'> dtype = float64_ref\n",
      "preC: shape = (3, 2) optype = <class 'tensorflow.python.framework.ops.Tensor'> dtype = float64\n",
      "C: shape = (3, 2) optype = <class 'tensorflow.python.ops.variables.Variable'> dtype = float64_ref\n"
     ]
    }
   ],
   "source": [
    "A = tf.Variable(nA)\n",
    "B = tf.Variable(nB)  \n",
    "# C = A + B    # shape error\n",
    "# C = tf.add(A,B)  # same as C=A+B\n",
    "# C = A * B    # shape error\n",
    "# C = tf.multiply(A,B) # same as C=A*B\n",
    "preC = tf.matmul(A,B)\n",
    "# C = tf.Variable(tf.matmul(A, B))   # no overloaded operator for matmul\n",
    "C = tf.Variable(preC)\n",
    "print(\"A: shape =\", A.shape, \"optype =\", type(A), \"dtype =\", A.dtype.name)\n",
    "print(\"B: shape =\", B.shape, \"optype =\", type(B), \"dtype =\", B.dtype.name)\n",
    "print(\"preC: shape =\", preC.shape, \"optype =\", type(preC), \"dtype =\", preC.dtype.name)\n",
    "print(\"C: shape =\", C.shape, \"optype =\", type(C), \"dtype =\", C.dtype.name)"
   ]
  },
  {
   "cell_type": "code",
   "execution_count": 5,
   "metadata": {
    "scrolled": true
   },
   "outputs": [
    {
     "data": {
      "text/plain": [
       "array([[ 70.,  70.],\n",
       "       [ 70.,  70.],\n",
       "       [ 70.,  70.]])"
      ]
     },
     "execution_count": 5,
     "metadata": {},
     "output_type": "execute_result"
    }
   ],
   "source": [
    "tf.global_variables_initializer().run()\n",
    "C.eval()\n"
   ]
  },
  {
   "cell_type": "code",
   "execution_count": 6,
   "metadata": {},
   "outputs": [
    {
     "name": "stdout",
     "output_type": "stream",
     "text": [
      "[[ 35.  35.]\n",
      " [ 35.  35.]\n",
      " [ 35.  35.]]\n",
      "[[ 14.  14.]\n",
      " [ 14.  14.]\n",
      " [ 14.  14.]]\n"
     ]
    }
   ],
   "source": [
    "x = C * 0.5\n",
    "print(x.eval())\n",
    "y = C * 0.2\n",
    "print(y.eval())\n"
   ]
  },
  {
   "cell_type": "code",
   "execution_count": null,
   "metadata": {},
   "outputs": [],
   "source": []
  },
  {
   "cell_type": "code",
   "execution_count": 7,
   "metadata": {
    "scrolled": true
   },
   "outputs": [
    {
     "name": "stdout",
     "output_type": "stream",
     "text": [
      "11.0\n",
      "18.0\n",
      "10.69\n",
      "10.69\n",
      "b 14.94\n"
     ]
    }
   ],
   "source": [
    "reset()\n",
    "C = tf.Variable (0.45 + 0.2j)\n",
    "\n",
    "Z = tf.Variable(C)\n",
    "W = tf.Variable(C)\n",
    "S = tf.Variable(3.0+0j, name=\"S\")\n",
    "T = tf.Variable(3.0+0j, name=\"T\")\n",
    "R = tf.Variable(3.0+0j, name=\"R\")\n",
    "M = tf.Variable(0.0, name=\"M\")\n",
    "#P = tf.placeholder(tf.complex128, shape=(), name=\"P\")\n",
    "#R = tf.Variable(P)\n",
    "\n",
    "a = tf.placeholder(tf.float32, shape=())\n",
    "b = tf.Variable(a)\n",
    "c = a * a\n",
    "d = c + 2.0\n",
    "e = d + b\n",
    "\n",
    "# new* are NOT Variables,\n",
    "# but rather \"add\" Tensors (with \"multiply\" Tensor intermediaries)\n",
    "newZ = Z*Z + C\n",
    "newW = Z*Z + C\n",
    "newS = Z*Z + C\n",
    "newT = Z*Z + C\n",
    "\n",
    "#tf.global_variables_initializer().run(feed_dict={P: 2.0+0.5j})\n",
    "#print(R.eval())\n",
    "# tf.global_variables_initializer().run(feed_dict={P: 7.0})\n",
    "# sess.run(R, feed_dict={P: 9.0})\n",
    "# print(sess.run(R, feed_dict={P: 11.0+0.5j}))\n",
    "# R.eval()\n",
    "\n",
    "tf.global_variables_initializer().run(feed_dict={a: 7.0})\n",
    "print(d.eval(feed_dict={a: 3.0}))\n",
    "print(d.eval(feed_dict={a: 4.0}))\n",
    "#print(b.eval(feed_dict={a: 1.0}))\n",
    "#S.eval(feed_dict={a:20})\n",
    "#print(sess.run(S, feed_dict={a:20}))\n",
    "b2 = b.assign(e)\n",
    "print(b2.eval(feed_dict={a: 1.3}))\n",
    "print(b.eval())\n",
    "b.assign(e).eval(feed_dict={a: 1.5})\n",
    "print(\"b\", b.eval())"
   ]
  },
  {
   "cell_type": "code",
   "execution_count": 8,
   "metadata": {},
   "outputs": [
    {
     "name": "stdout",
     "output_type": "stream",
     "text": [
      "(3.45+0.2j)\n",
      "(3.9+0.4j)\n",
      "(4.35+0.6j)\n",
      "(4.8+0.8j)\n",
      "(5.25+1j)\n"
     ]
    }
   ],
   "source": [
    "# simple direct loop\n",
    "for i in range(5):\n",
    "    R = R + C\n",
    "    print(R.eval())\n"
   ]
  },
  {
   "cell_type": "code",
   "execution_count": 9,
   "metadata": {},
   "outputs": [
    {
     "name": "stdout",
     "output_type": "stream",
     "text": [
      "1.0 (0.6125+0.38j)\n",
      "2.0 (0.68075625+0.6655j)\n",
      "3.0 (0.470538821914+1.10608656875j)\n",
      "4.0 (-0.552020714641+1.24091334199j)\n",
      "5.0 (-0.785139052934-1.1700197397j)\n",
      "6.0 (-0.302502858856+2.03725638069j)\n",
      "7.0 (-3.60890558105-1.03255175876j)\n",
      "7.0 (12.4080363584+7.65276360986j)\n",
      "7.0 (95.8445754038+190.111538227j)\n",
      "7.0 (-26955.7643328+36442.5193215j)\n",
      "postloop ===> 7.0 (-26955.7643328+36442.5193215j)\n",
      "postloop ===> 1.0 (-1.48438775067e+162+1.79674832954e+162j)\n",
      "Tensor(\"AssignAdd:0\", shape=(), dtype=complex128_ref)\n",
      "(2.45+0.2j)\n",
      "(2.45+0.2j)\n"
     ]
    },
    {
     "data": {
      "text/plain": [
       "(-0.34434033271740883+0.26781405797657259j)"
      ]
     },
     "execution_count": 9,
     "metadata": {},
     "output_type": "execute_result"
    }
   ],
   "source": [
    "# direct loop\n",
    "# if redoing loop repeat\n",
    "maxiter = 10\n",
    "for i in range(maxiter):\n",
    "    # why doesn't assign work?\n",
    "    # Z.assign(newZ)   \n",
    "    # using direct tensor ops instead\n",
    "    Z = Z*Z + C\n",
    "    # Have we diverged with this new value?\n",
    "    not_diverged = (tf.abs(Z) <= 4)\n",
    "    # if not, increment iterations count for the point\n",
    "    M = M + tf.cast(not_diverged, tf.float32)\n",
    "    # don't need to call run() on each iterations, \n",
    "    print(M.eval(), Z.eval())\n",
    "    \n",
    "# M.eval and Z.eval anytime after loop will run entire unrolled loop\n",
    "print(\"postloop ===>\", M.eval(), Z.eval())\n",
    "\n",
    "cass = C.assign_add(1.0+0.0)\n",
    "#btf.global_variables_initializer().run()\n",
    "sess.run(cass)\n",
    "#sess.run(Z)\n",
    "print(\"postloop ===>\", M.eval(), Z.eval())\n",
    "\n",
    "print(cass)\n",
    "print(cass.eval())\n",
    "print(C.eval())\n",
    "sess.run(Z)\n",
    "C.assign_add(-3.0+0.1j).eval()\n",
    "sess.run(Z)\n",
    "\n"
   ]
  },
  {
   "cell_type": "code",
   "execution_count": 10,
   "metadata": {},
   "outputs": [
    {
     "name": "stdout",
     "output_type": "stream",
     "text": [
      "(-0.3875+0.48j)\n",
      "(-0.63024375-0.072j)\n",
      "(-0.157976815586+0.3907551j)\n",
      "(-0.677732873913+0.176539507256j)\n",
      "(-0.121844349239+0.0607067447762j)\n",
      "(-0.53883926342+0.285206452377j)\n",
      "(-0.340994968675-0.00736086944234j)\n",
      "(-0.433776613738+0.30502003889j)\n",
      "(-0.454875073499+0.0353788808165j)\n",
      "(-0.344340332717+0.267814057977j)\n"
     ]
    }
   ],
   "source": [
    "# group and assign inline constructed Op/Tensor\n",
    "for i in range(10):\n",
    "    stepW = tf.group(\n",
    "        W.assign(W*W+C)\n",
    "    )\n",
    "    # works only if call run() on each iteration\n",
    "    stepW.run()\n",
    "    print(W.eval())\n",
    "    \n",
    "#stepW.run()\n",
    "#W.eval()"
   ]
  },
  {
   "cell_type": "code",
   "execution_count": 11,
   "metadata": {},
   "outputs": [
    {
     "name": "stdout",
     "output_type": "stream",
     "text": [
      "(-0.3875+0.48j)\n",
      "(-0.3875+0.48j)\n",
      "(-0.3875+0.48j)\n",
      "(-0.3875+0.48j)\n",
      "(-0.3875+0.48j)\n"
     ]
    },
    {
     "data": {
      "text/plain": [
       "(-0.38749999999999984+0.48000000000000009j)"
      ]
     },
     "execution_count": 11,
     "metadata": {},
     "output_type": "execute_result"
    }
   ],
   "source": [
    "# group and assign to prior Op/Tensor\n",
    "for i in range(5):\n",
    "    stepS = tf.group(\n",
    "        S.assign(newS)\n",
    "    )\n",
    "    stepS.run()\n",
    "    print(S.eval())\n",
    "stepS.run()\n",
    "S.eval()"
   ]
  },
  {
   "cell_type": "code",
   "execution_count": 12,
   "metadata": {},
   "outputs": [
    {
     "ename": "InvalidArgumentError",
     "evalue": "You must feed a value for placeholder tensor 'Placeholder' with dtype float\n\t [[Node: Placeholder = Placeholder[dtype=DT_FLOAT, shape=[], _device=\"/job:localhost/replica:0/task:0/gpu:0\"]()]]\n\nCaused by op 'Placeholder', defined at:\n  File \"/home/user1/anaconda3/envs/tflow14_py35/lib/python3.5/runpy.py\", line 193, in _run_module_as_main\n    \"__main__\", mod_spec)\n  File \"/home/user1/anaconda3/envs/tflow14_py35/lib/python3.5/runpy.py\", line 85, in _run_code\n    exec(code, run_globals)\n  File \"/home/user1/anaconda3/envs/tflow14_py35/lib/python3.5/site-packages/ipykernel_launcher.py\", line 16, in <module>\n    app.launch_new_instance()\n  File \"/home/user1/anaconda3/envs/tflow14_py35/lib/python3.5/site-packages/traitlets/config/application.py\", line 658, in launch_instance\n    app.start()\n  File \"/home/user1/anaconda3/envs/tflow14_py35/lib/python3.5/site-packages/ipykernel/kernelapp.py\", line 477, in start\n    ioloop.IOLoop.instance().start()\n  File \"/home/user1/anaconda3/envs/tflow14_py35/lib/python3.5/site-packages/zmq/eventloop/ioloop.py\", line 177, in start\n    super(ZMQIOLoop, self).start()\n  File \"/home/user1/anaconda3/envs/tflow14_py35/lib/python3.5/site-packages/tornado/ioloop.py\", line 888, in start\n    handler_func(fd_obj, events)\n  File \"/home/user1/anaconda3/envs/tflow14_py35/lib/python3.5/site-packages/tornado/stack_context.py\", line 277, in null_wrapper\n    return fn(*args, **kwargs)\n  File \"/home/user1/anaconda3/envs/tflow14_py35/lib/python3.5/site-packages/zmq/eventloop/zmqstream.py\", line 440, in _handle_events\n    self._handle_recv()\n  File \"/home/user1/anaconda3/envs/tflow14_py35/lib/python3.5/site-packages/zmq/eventloop/zmqstream.py\", line 472, in _handle_recv\n    self._run_callback(callback, msg)\n  File \"/home/user1/anaconda3/envs/tflow14_py35/lib/python3.5/site-packages/zmq/eventloop/zmqstream.py\", line 414, in _run_callback\n    callback(*args, **kwargs)\n  File \"/home/user1/anaconda3/envs/tflow14_py35/lib/python3.5/site-packages/tornado/stack_context.py\", line 277, in null_wrapper\n    return fn(*args, **kwargs)\n  File \"/home/user1/anaconda3/envs/tflow14_py35/lib/python3.5/site-packages/ipykernel/kernelbase.py\", line 283, in dispatcher\n    return self.dispatch_shell(stream, msg)\n  File \"/home/user1/anaconda3/envs/tflow14_py35/lib/python3.5/site-packages/ipykernel/kernelbase.py\", line 235, in dispatch_shell\n    handler(stream, idents, msg)\n  File \"/home/user1/anaconda3/envs/tflow14_py35/lib/python3.5/site-packages/ipykernel/kernelbase.py\", line 399, in execute_request\n    user_expressions, allow_stdin)\n  File \"/home/user1/anaconda3/envs/tflow14_py35/lib/python3.5/site-packages/ipykernel/ipkernel.py\", line 196, in do_execute\n    res = shell.run_cell(code, store_history=store_history, silent=silent)\n  File \"/home/user1/anaconda3/envs/tflow14_py35/lib/python3.5/site-packages/ipykernel/zmqshell.py\", line 533, in run_cell\n    return super(ZMQInteractiveShell, self).run_cell(*args, **kwargs)\n  File \"/home/user1/anaconda3/envs/tflow14_py35/lib/python3.5/site-packages/IPython/core/interactiveshell.py\", line 2728, in run_cell\n    interactivity=interactivity, compiler=compiler, result=result)\n  File \"/home/user1/anaconda3/envs/tflow14_py35/lib/python3.5/site-packages/IPython/core/interactiveshell.py\", line 2850, in run_ast_nodes\n    if self.run_code(code, result):\n  File \"/home/user1/anaconda3/envs/tflow14_py35/lib/python3.5/site-packages/IPython/core/interactiveshell.py\", line 2910, in run_code\n    exec(code_obj, self.user_global_ns, self.user_ns)\n  File \"<ipython-input-7-2aafa049cbdd>\", line 13, in <module>\n    a = tf.placeholder(tf.float32, shape=())\n  File \"/home/user1/.local/lib/python3.5/site-packages/tensorflow/python/ops/array_ops.py\", line 1548, in placeholder\n    return gen_array_ops._placeholder(dtype=dtype, shape=shape, name=name)\n  File \"/home/user1/.local/lib/python3.5/site-packages/tensorflow/python/ops/gen_array_ops.py\", line 2094, in _placeholder\n    name=name)\n  File \"/home/user1/.local/lib/python3.5/site-packages/tensorflow/python/framework/op_def_library.py\", line 767, in apply_op\n    op_def=op_def)\n  File \"/home/user1/.local/lib/python3.5/site-packages/tensorflow/python/framework/ops.py\", line 2630, in create_op\n    original_op=self._default_original_op, op_def=op_def)\n  File \"/home/user1/.local/lib/python3.5/site-packages/tensorflow/python/framework/ops.py\", line 1204, in __init__\n    self._traceback = self._graph._extract_stack()  # pylint: disable=protected-access\n\nInvalidArgumentError (see above for traceback): You must feed a value for placeholder tensor 'Placeholder' with dtype float\n\t [[Node: Placeholder = Placeholder[dtype=DT_FLOAT, shape=[], _device=\"/job:localhost/replica:0/task:0/gpu:0\"]()]]\n",
     "output_type": "error",
     "traceback": [
      "\u001b[0;31m---------------------------------------------------------------------------\u001b[0m",
      "\u001b[0;31mInvalidArgumentError\u001b[0m                      Traceback (most recent call last)",
      "\u001b[0;32m~/.local/lib/python3.5/site-packages/tensorflow/python/client/session.py\u001b[0m in \u001b[0;36m_do_call\u001b[0;34m(self, fn, *args)\u001b[0m\n\u001b[1;32m   1326\u001b[0m     \u001b[0;32mtry\u001b[0m\u001b[0;34m:\u001b[0m\u001b[0;34m\u001b[0m\u001b[0m\n\u001b[0;32m-> 1327\u001b[0;31m       \u001b[0;32mreturn\u001b[0m \u001b[0mfn\u001b[0m\u001b[0;34m(\u001b[0m\u001b[0;34m*\u001b[0m\u001b[0margs\u001b[0m\u001b[0;34m)\u001b[0m\u001b[0;34m\u001b[0m\u001b[0m\n\u001b[0m\u001b[1;32m   1328\u001b[0m     \u001b[0;32mexcept\u001b[0m \u001b[0merrors\u001b[0m\u001b[0;34m.\u001b[0m\u001b[0mOpError\u001b[0m \u001b[0;32mas\u001b[0m \u001b[0me\u001b[0m\u001b[0;34m:\u001b[0m\u001b[0;34m\u001b[0m\u001b[0m\n",
      "\u001b[0;32m~/.local/lib/python3.5/site-packages/tensorflow/python/client/session.py\u001b[0m in \u001b[0;36m_run_fn\u001b[0;34m(session, feed_dict, fetch_list, target_list, options, run_metadata)\u001b[0m\n\u001b[1;32m   1305\u001b[0m                                    \u001b[0mfeed_dict\u001b[0m\u001b[0;34m,\u001b[0m \u001b[0mfetch_list\u001b[0m\u001b[0;34m,\u001b[0m \u001b[0mtarget_list\u001b[0m\u001b[0;34m,\u001b[0m\u001b[0;34m\u001b[0m\u001b[0m\n\u001b[0;32m-> 1306\u001b[0;31m                                    status, run_metadata)\n\u001b[0m\u001b[1;32m   1307\u001b[0m \u001b[0;34m\u001b[0m\u001b[0m\n",
      "\u001b[0;32m~/anaconda3/envs/tflow14_py35/lib/python3.5/contextlib.py\u001b[0m in \u001b[0;36m__exit__\u001b[0;34m(self, type, value, traceback)\u001b[0m\n\u001b[1;32m     65\u001b[0m             \u001b[0;32mtry\u001b[0m\u001b[0;34m:\u001b[0m\u001b[0;34m\u001b[0m\u001b[0m\n\u001b[0;32m---> 66\u001b[0;31m                 \u001b[0mnext\u001b[0m\u001b[0;34m(\u001b[0m\u001b[0mself\u001b[0m\u001b[0;34m.\u001b[0m\u001b[0mgen\u001b[0m\u001b[0;34m)\u001b[0m\u001b[0;34m\u001b[0m\u001b[0m\n\u001b[0m\u001b[1;32m     67\u001b[0m             \u001b[0;32mexcept\u001b[0m \u001b[0mStopIteration\u001b[0m\u001b[0;34m:\u001b[0m\u001b[0;34m\u001b[0m\u001b[0m\n",
      "\u001b[0;32m~/.local/lib/python3.5/site-packages/tensorflow/python/framework/errors_impl.py\u001b[0m in \u001b[0;36mraise_exception_on_not_ok_status\u001b[0;34m()\u001b[0m\n\u001b[1;32m    465\u001b[0m           \u001b[0mcompat\u001b[0m\u001b[0;34m.\u001b[0m\u001b[0mas_text\u001b[0m\u001b[0;34m(\u001b[0m\u001b[0mpywrap_tensorflow\u001b[0m\u001b[0;34m.\u001b[0m\u001b[0mTF_Message\u001b[0m\u001b[0;34m(\u001b[0m\u001b[0mstatus\u001b[0m\u001b[0;34m)\u001b[0m\u001b[0;34m)\u001b[0m\u001b[0;34m,\u001b[0m\u001b[0;34m\u001b[0m\u001b[0m\n\u001b[0;32m--> 466\u001b[0;31m           pywrap_tensorflow.TF_GetCode(status))\n\u001b[0m\u001b[1;32m    467\u001b[0m   \u001b[0;32mfinally\u001b[0m\u001b[0;34m:\u001b[0m\u001b[0;34m\u001b[0m\u001b[0m\n",
      "\u001b[0;31mInvalidArgumentError\u001b[0m: You must feed a value for placeholder tensor 'Placeholder' with dtype float\n\t [[Node: Placeholder = Placeholder[dtype=DT_FLOAT, shape=[], _device=\"/job:localhost/replica:0/task:0/gpu:0\"]()]]",
      "\nDuring handling of the above exception, another exception occurred:\n",
      "\u001b[0;31mInvalidArgumentError\u001b[0m                      Traceback (most recent call last)",
      "\u001b[0;32m<ipython-input-12-1c786d2e2991>\u001b[0m in \u001b[0;36m<module>\u001b[0;34m()\u001b[0m\n\u001b[1;32m      1\u001b[0m \u001b[0mv\u001b[0m \u001b[0;34m=\u001b[0m \u001b[0mtf\u001b[0m\u001b[0;34m.\u001b[0m\u001b[0mget_variable\u001b[0m\u001b[0;34m(\u001b[0m\u001b[0;34m\"v\"\u001b[0m\u001b[0;34m,\u001b[0m \u001b[0mshape\u001b[0m\u001b[0;34m=\u001b[0m\u001b[0;34m(\u001b[0m\u001b[0;34m)\u001b[0m\u001b[0;34m,\u001b[0m \u001b[0minitializer\u001b[0m\u001b[0;34m=\u001b[0m\u001b[0mtf\u001b[0m\u001b[0;34m.\u001b[0m\u001b[0mzeros_initializer\u001b[0m\u001b[0;34m(\u001b[0m\u001b[0;34m)\u001b[0m\u001b[0;34m)\u001b[0m\u001b[0;34m\u001b[0m\u001b[0m\n\u001b[1;32m      2\u001b[0m \u001b[0massignment\u001b[0m \u001b[0;34m=\u001b[0m \u001b[0mv\u001b[0m\u001b[0;34m.\u001b[0m\u001b[0massign_add\u001b[0m\u001b[0;34m(\u001b[0m\u001b[0;36m1\u001b[0m\u001b[0;34m)\u001b[0m\u001b[0;34m\u001b[0m\u001b[0m\n\u001b[0;32m----> 3\u001b[0;31m \u001b[0mtf\u001b[0m\u001b[0;34m.\u001b[0m\u001b[0mglobal_variables_initializer\u001b[0m\u001b[0;34m(\u001b[0m\u001b[0;34m)\u001b[0m\u001b[0;34m.\u001b[0m\u001b[0mrun\u001b[0m\u001b[0;34m(\u001b[0m\u001b[0;34m)\u001b[0m\u001b[0;34m\u001b[0m\u001b[0m\n\u001b[0m\u001b[1;32m      4\u001b[0m \u001b[0massignment\u001b[0m\u001b[0;34m.\u001b[0m\u001b[0mrun\u001b[0m\u001b[0;34m(\u001b[0m\u001b[0;34m)\u001b[0m\u001b[0;34m\u001b[0m\u001b[0m\n",
      "\u001b[0;32m~/.local/lib/python3.5/site-packages/tensorflow/python/framework/ops.py\u001b[0m in \u001b[0;36mrun\u001b[0;34m(self, feed_dict, session)\u001b[0m\n\u001b[1;32m   1742\u001b[0m         \u001b[0mnone\u001b[0m\u001b[0;34m,\u001b[0m \u001b[0mthe\u001b[0m \u001b[0mdefault\u001b[0m \u001b[0msession\u001b[0m \u001b[0mwill\u001b[0m \u001b[0mbe\u001b[0m \u001b[0mused\u001b[0m\u001b[0;34m.\u001b[0m\u001b[0;34m\u001b[0m\u001b[0m\n\u001b[1;32m   1743\u001b[0m     \"\"\"\n\u001b[0;32m-> 1744\u001b[0;31m     \u001b[0m_run_using_default_session\u001b[0m\u001b[0;34m(\u001b[0m\u001b[0mself\u001b[0m\u001b[0;34m,\u001b[0m \u001b[0mfeed_dict\u001b[0m\u001b[0;34m,\u001b[0m \u001b[0mself\u001b[0m\u001b[0;34m.\u001b[0m\u001b[0mgraph\u001b[0m\u001b[0;34m,\u001b[0m \u001b[0msession\u001b[0m\u001b[0;34m)\u001b[0m\u001b[0;34m\u001b[0m\u001b[0m\n\u001b[0m\u001b[1;32m   1745\u001b[0m \u001b[0;34m\u001b[0m\u001b[0m\n\u001b[1;32m   1746\u001b[0m \u001b[0;34m\u001b[0m\u001b[0m\n",
      "\u001b[0;32m~/.local/lib/python3.5/site-packages/tensorflow/python/framework/ops.py\u001b[0m in \u001b[0;36m_run_using_default_session\u001b[0;34m(operation, feed_dict, graph, session)\u001b[0m\n\u001b[1;32m   4118\u001b[0m                        \u001b[0;34m\"the operation's graph is different from the session's \"\u001b[0m\u001b[0;34m\u001b[0m\u001b[0m\n\u001b[1;32m   4119\u001b[0m                        \"graph.\")\n\u001b[0;32m-> 4120\u001b[0;31m   \u001b[0msession\u001b[0m\u001b[0;34m.\u001b[0m\u001b[0mrun\u001b[0m\u001b[0;34m(\u001b[0m\u001b[0moperation\u001b[0m\u001b[0;34m,\u001b[0m \u001b[0mfeed_dict\u001b[0m\u001b[0;34m)\u001b[0m\u001b[0;34m\u001b[0m\u001b[0m\n\u001b[0m\u001b[1;32m   4121\u001b[0m \u001b[0;34m\u001b[0m\u001b[0m\n\u001b[1;32m   4122\u001b[0m \u001b[0;34m\u001b[0m\u001b[0m\n",
      "\u001b[0;32m~/.local/lib/python3.5/site-packages/tensorflow/python/client/session.py\u001b[0m in \u001b[0;36mrun\u001b[0;34m(self, fetches, feed_dict, options, run_metadata)\u001b[0m\n\u001b[1;32m    893\u001b[0m     \u001b[0;32mtry\u001b[0m\u001b[0;34m:\u001b[0m\u001b[0;34m\u001b[0m\u001b[0m\n\u001b[1;32m    894\u001b[0m       result = self._run(None, fetches, feed_dict, options_ptr,\n\u001b[0;32m--> 895\u001b[0;31m                          run_metadata_ptr)\n\u001b[0m\u001b[1;32m    896\u001b[0m       \u001b[0;32mif\u001b[0m \u001b[0mrun_metadata\u001b[0m\u001b[0;34m:\u001b[0m\u001b[0;34m\u001b[0m\u001b[0m\n\u001b[1;32m    897\u001b[0m         \u001b[0mproto_data\u001b[0m \u001b[0;34m=\u001b[0m \u001b[0mtf_session\u001b[0m\u001b[0;34m.\u001b[0m\u001b[0mTF_GetBuffer\u001b[0m\u001b[0;34m(\u001b[0m\u001b[0mrun_metadata_ptr\u001b[0m\u001b[0;34m)\u001b[0m\u001b[0;34m\u001b[0m\u001b[0m\n",
      "\u001b[0;32m~/.local/lib/python3.5/site-packages/tensorflow/python/client/session.py\u001b[0m in \u001b[0;36m_run\u001b[0;34m(self, handle, fetches, feed_dict, options, run_metadata)\u001b[0m\n\u001b[1;32m   1122\u001b[0m     \u001b[0;32mif\u001b[0m \u001b[0mfinal_fetches\u001b[0m \u001b[0;32mor\u001b[0m \u001b[0mfinal_targets\u001b[0m \u001b[0;32mor\u001b[0m \u001b[0;34m(\u001b[0m\u001b[0mhandle\u001b[0m \u001b[0;32mand\u001b[0m \u001b[0mfeed_dict_tensor\u001b[0m\u001b[0;34m)\u001b[0m\u001b[0;34m:\u001b[0m\u001b[0;34m\u001b[0m\u001b[0m\n\u001b[1;32m   1123\u001b[0m       results = self._do_run(handle, final_targets, final_fetches,\n\u001b[0;32m-> 1124\u001b[0;31m                              feed_dict_tensor, options, run_metadata)\n\u001b[0m\u001b[1;32m   1125\u001b[0m     \u001b[0;32melse\u001b[0m\u001b[0;34m:\u001b[0m\u001b[0;34m\u001b[0m\u001b[0m\n\u001b[1;32m   1126\u001b[0m       \u001b[0mresults\u001b[0m \u001b[0;34m=\u001b[0m \u001b[0;34m[\u001b[0m\u001b[0;34m]\u001b[0m\u001b[0;34m\u001b[0m\u001b[0m\n",
      "\u001b[0;32m~/.local/lib/python3.5/site-packages/tensorflow/python/client/session.py\u001b[0m in \u001b[0;36m_do_run\u001b[0;34m(self, handle, target_list, fetch_list, feed_dict, options, run_metadata)\u001b[0m\n\u001b[1;32m   1319\u001b[0m     \u001b[0;32mif\u001b[0m \u001b[0mhandle\u001b[0m \u001b[0;32mis\u001b[0m \u001b[0;32mNone\u001b[0m\u001b[0;34m:\u001b[0m\u001b[0;34m\u001b[0m\u001b[0m\n\u001b[1;32m   1320\u001b[0m       return self._do_call(_run_fn, self._session, feeds, fetches, targets,\n\u001b[0;32m-> 1321\u001b[0;31m                            options, run_metadata)\n\u001b[0m\u001b[1;32m   1322\u001b[0m     \u001b[0;32melse\u001b[0m\u001b[0;34m:\u001b[0m\u001b[0;34m\u001b[0m\u001b[0m\n\u001b[1;32m   1323\u001b[0m       \u001b[0;32mreturn\u001b[0m \u001b[0mself\u001b[0m\u001b[0;34m.\u001b[0m\u001b[0m_do_call\u001b[0m\u001b[0;34m(\u001b[0m\u001b[0m_prun_fn\u001b[0m\u001b[0;34m,\u001b[0m \u001b[0mself\u001b[0m\u001b[0;34m.\u001b[0m\u001b[0m_session\u001b[0m\u001b[0;34m,\u001b[0m \u001b[0mhandle\u001b[0m\u001b[0;34m,\u001b[0m \u001b[0mfeeds\u001b[0m\u001b[0;34m,\u001b[0m \u001b[0mfetches\u001b[0m\u001b[0;34m)\u001b[0m\u001b[0;34m\u001b[0m\u001b[0m\n",
      "\u001b[0;32m~/.local/lib/python3.5/site-packages/tensorflow/python/client/session.py\u001b[0m in \u001b[0;36m_do_call\u001b[0;34m(self, fn, *args)\u001b[0m\n\u001b[1;32m   1338\u001b[0m         \u001b[0;32mexcept\u001b[0m \u001b[0mKeyError\u001b[0m\u001b[0;34m:\u001b[0m\u001b[0;34m\u001b[0m\u001b[0m\n\u001b[1;32m   1339\u001b[0m           \u001b[0;32mpass\u001b[0m\u001b[0;34m\u001b[0m\u001b[0m\n\u001b[0;32m-> 1340\u001b[0;31m       \u001b[0;32mraise\u001b[0m \u001b[0mtype\u001b[0m\u001b[0;34m(\u001b[0m\u001b[0me\u001b[0m\u001b[0;34m)\u001b[0m\u001b[0;34m(\u001b[0m\u001b[0mnode_def\u001b[0m\u001b[0;34m,\u001b[0m \u001b[0mop\u001b[0m\u001b[0;34m,\u001b[0m \u001b[0mmessage\u001b[0m\u001b[0;34m)\u001b[0m\u001b[0;34m\u001b[0m\u001b[0m\n\u001b[0m\u001b[1;32m   1341\u001b[0m \u001b[0;34m\u001b[0m\u001b[0m\n\u001b[1;32m   1342\u001b[0m   \u001b[0;32mdef\u001b[0m \u001b[0m_extend_graph\u001b[0m\u001b[0;34m(\u001b[0m\u001b[0mself\u001b[0m\u001b[0;34m)\u001b[0m\u001b[0;34m:\u001b[0m\u001b[0;34m\u001b[0m\u001b[0m\n",
      "\u001b[0;31mInvalidArgumentError\u001b[0m: You must feed a value for placeholder tensor 'Placeholder' with dtype float\n\t [[Node: Placeholder = Placeholder[dtype=DT_FLOAT, shape=[], _device=\"/job:localhost/replica:0/task:0/gpu:0\"]()]]\n\nCaused by op 'Placeholder', defined at:\n  File \"/home/user1/anaconda3/envs/tflow14_py35/lib/python3.5/runpy.py\", line 193, in _run_module_as_main\n    \"__main__\", mod_spec)\n  File \"/home/user1/anaconda3/envs/tflow14_py35/lib/python3.5/runpy.py\", line 85, in _run_code\n    exec(code, run_globals)\n  File \"/home/user1/anaconda3/envs/tflow14_py35/lib/python3.5/site-packages/ipykernel_launcher.py\", line 16, in <module>\n    app.launch_new_instance()\n  File \"/home/user1/anaconda3/envs/tflow14_py35/lib/python3.5/site-packages/traitlets/config/application.py\", line 658, in launch_instance\n    app.start()\n  File \"/home/user1/anaconda3/envs/tflow14_py35/lib/python3.5/site-packages/ipykernel/kernelapp.py\", line 477, in start\n    ioloop.IOLoop.instance().start()\n  File \"/home/user1/anaconda3/envs/tflow14_py35/lib/python3.5/site-packages/zmq/eventloop/ioloop.py\", line 177, in start\n    super(ZMQIOLoop, self).start()\n  File \"/home/user1/anaconda3/envs/tflow14_py35/lib/python3.5/site-packages/tornado/ioloop.py\", line 888, in start\n    handler_func(fd_obj, events)\n  File \"/home/user1/anaconda3/envs/tflow14_py35/lib/python3.5/site-packages/tornado/stack_context.py\", line 277, in null_wrapper\n    return fn(*args, **kwargs)\n  File \"/home/user1/anaconda3/envs/tflow14_py35/lib/python3.5/site-packages/zmq/eventloop/zmqstream.py\", line 440, in _handle_events\n    self._handle_recv()\n  File \"/home/user1/anaconda3/envs/tflow14_py35/lib/python3.5/site-packages/zmq/eventloop/zmqstream.py\", line 472, in _handle_recv\n    self._run_callback(callback, msg)\n  File \"/home/user1/anaconda3/envs/tflow14_py35/lib/python3.5/site-packages/zmq/eventloop/zmqstream.py\", line 414, in _run_callback\n    callback(*args, **kwargs)\n  File \"/home/user1/anaconda3/envs/tflow14_py35/lib/python3.5/site-packages/tornado/stack_context.py\", line 277, in null_wrapper\n    return fn(*args, **kwargs)\n  File \"/home/user1/anaconda3/envs/tflow14_py35/lib/python3.5/site-packages/ipykernel/kernelbase.py\", line 283, in dispatcher\n    return self.dispatch_shell(stream, msg)\n  File \"/home/user1/anaconda3/envs/tflow14_py35/lib/python3.5/site-packages/ipykernel/kernelbase.py\", line 235, in dispatch_shell\n    handler(stream, idents, msg)\n  File \"/home/user1/anaconda3/envs/tflow14_py35/lib/python3.5/site-packages/ipykernel/kernelbase.py\", line 399, in execute_request\n    user_expressions, allow_stdin)\n  File \"/home/user1/anaconda3/envs/tflow14_py35/lib/python3.5/site-packages/ipykernel/ipkernel.py\", line 196, in do_execute\n    res = shell.run_cell(code, store_history=store_history, silent=silent)\n  File \"/home/user1/anaconda3/envs/tflow14_py35/lib/python3.5/site-packages/ipykernel/zmqshell.py\", line 533, in run_cell\n    return super(ZMQInteractiveShell, self).run_cell(*args, **kwargs)\n  File \"/home/user1/anaconda3/envs/tflow14_py35/lib/python3.5/site-packages/IPython/core/interactiveshell.py\", line 2728, in run_cell\n    interactivity=interactivity, compiler=compiler, result=result)\n  File \"/home/user1/anaconda3/envs/tflow14_py35/lib/python3.5/site-packages/IPython/core/interactiveshell.py\", line 2850, in run_ast_nodes\n    if self.run_code(code, result):\n  File \"/home/user1/anaconda3/envs/tflow14_py35/lib/python3.5/site-packages/IPython/core/interactiveshell.py\", line 2910, in run_code\n    exec(code_obj, self.user_global_ns, self.user_ns)\n  File \"<ipython-input-7-2aafa049cbdd>\", line 13, in <module>\n    a = tf.placeholder(tf.float32, shape=())\n  File \"/home/user1/.local/lib/python3.5/site-packages/tensorflow/python/ops/array_ops.py\", line 1548, in placeholder\n    return gen_array_ops._placeholder(dtype=dtype, shape=shape, name=name)\n  File \"/home/user1/.local/lib/python3.5/site-packages/tensorflow/python/ops/gen_array_ops.py\", line 2094, in _placeholder\n    name=name)\n  File \"/home/user1/.local/lib/python3.5/site-packages/tensorflow/python/framework/op_def_library.py\", line 767, in apply_op\n    op_def=op_def)\n  File \"/home/user1/.local/lib/python3.5/site-packages/tensorflow/python/framework/ops.py\", line 2630, in create_op\n    original_op=self._default_original_op, op_def=op_def)\n  File \"/home/user1/.local/lib/python3.5/site-packages/tensorflow/python/framework/ops.py\", line 1204, in __init__\n    self._traceback = self._graph._extract_stack()  # pylint: disable=protected-access\n\nInvalidArgumentError (see above for traceback): You must feed a value for placeholder tensor 'Placeholder' with dtype float\n\t [[Node: Placeholder = Placeholder[dtype=DT_FLOAT, shape=[], _device=\"/job:localhost/replica:0/task:0/gpu:0\"]()]]\n"
     ]
    }
   ],
   "source": [
    "v = tf.get_variable(\"v\", shape=(), initializer=tf.zeros_initializer())\n",
    "assignment = v.assign_add(1)\n",
    "tf.global_variables_initializer().run()\n",
    "assignment.run()\n"
   ]
  },
  {
   "cell_type": "code",
   "execution_count": null,
   "metadata": {},
   "outputs": [],
   "source": [
    "x = tf.Variable(0)\n",
    "y = tf.assign(x, 2)\n",
    "with tf.Session() as sess:\n",
    "    sess.run(tf.global_variables_initializer())\n",
    "    print(x.eval())\n",
    "    print(y.eval())\n",
    "    print(x.eval())"
   ]
  },
  {
   "cell_type": "code",
   "execution_count": null,
   "metadata": {},
   "outputs": [],
   "source": [
    "x = tf.placeholder(dtype=tf.float32, shape=())\n",
    "x2 = x * x\n",
    "y = x2 + 3.0\n",
    "\n",
    "with tf.Session() as session:\n",
    "    # session.run(y) # will fail!\n",
    "    # session.run(y, feed_dict={x: [[1, 2], [3, 4]]}) # OK\n",
    "    print(y.eval(feed_dict={x: 2.0}))\n",
    "    \n",
    "    print(y.eval(feed_dict={x: 3}))\n",
    "    print(y.eval(feed_dict={x: 1}))\n",
    "\n",
    "          \n",
    "\n"
   ]
  },
  {
   "cell_type": "code",
   "execution_count": 13,
   "metadata": {},
   "outputs": [],
   "source": [
    "# sess.close()\n"
   ]
  },
  {
   "cell_type": "code",
   "execution_count": null,
   "metadata": {},
   "outputs": [],
   "source": []
  }
 ],
 "metadata": {
  "kernelspec": {
   "display_name": "Python 3",
   "language": "python",
   "name": "python3"
  },
  "language_info": {
   "codemirror_mode": {
    "name": "ipython",
    "version": 3
   },
   "file_extension": ".py",
   "mimetype": "text/x-python",
   "name": "python",
   "nbconvert_exporter": "python",
   "pygments_lexer": "ipython3",
   "version": "3.5.4"
  }
 },
 "nbformat": 4,
 "nbformat_minor": 2
}
