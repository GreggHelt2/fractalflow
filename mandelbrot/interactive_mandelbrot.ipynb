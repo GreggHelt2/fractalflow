{
 "cells": [
  {
   "cell_type": "markdown",
   "metadata": {},
   "source": [
    "# an interactive version of Tensorflow Mandelbrot set tutorial\n",
    "based on original tutorial at https://www.tensorflow.org/tutorials/mandelbrot"
   ]
  },
  {
   "cell_type": "code",
   "execution_count": 1,
   "metadata": {
    "collapsed": true
   },
   "outputs": [],
   "source": [
    "# imports for simulation\n",
    "import tensorflow as tf\n",
    "import numpy as np\n",
    "\n",
    "# imports for visualization\n",
    "import PIL.Image\n",
    "from io import BytesIO\n",
    "from IPython.display import Image, display\n",
    "\n",
    "# imports for interaction \n",
    "from ipywidgets import interact, FloatSlider"
   ]
  },
  {
   "cell_type": "code",
   "execution_count": 2,
   "metadata": {
    "collapsed": true
   },
   "outputs": [],
   "source": [
    "def DisplayFractal(a, fmt='jpeg'):\n",
    "  \"\"\"Display an array of iteration counts as a\n",
    "     colorful picture of a fractal.\"\"\"\n",
    "  a_cyclic = (6.28*a/20.0).reshape(list(a.shape)+[1])\n",
    "  img = np.concatenate([10+20*np.cos(a_cyclic),\n",
    "                        30+50*np.sin(a_cyclic),\n",
    "                        155-80*np.cos(a_cyclic)], 2)\n",
    "  img[a==a.max()] = 0\n",
    "  a = img\n",
    "  a = np.uint8(np.clip(a, 0, 255))\n",
    "  f = BytesIO()\n",
    "  PIL.Image.fromarray(a).save(f, fmt)\n",
    "  display(Image(data=f.getvalue()))"
   ]
  },
  {
   "cell_type": "code",
   "execution_count": 12,
   "metadata": {
    "collapsed": true
   },
   "outputs": [],
   "source": [
    "def recalc(zoom, xoffset, yoffset): \n",
    "    print(\"scale=\" + str(zoom) + \", center=[\" + str(xoffset) + \":\" + str(yoffset) + \"]\")\n",
    "    Y, X = np.mgrid[(-2.0/zoom)+yoffset:(2.0/zoom)+yoffset:0.005/zoom, \n",
    "                    (-2.0/zoom)+xoffset:(2.0/zoom)+xoffset:0.005/zoom] \n",
    "    Z = X+1j*Y\n",
    "    sess = tf.InteractiveSession()\n",
    "\n",
    "    xs = tf.constant(Z.astype(np.complex64))\n",
    "    zs = tf.Variable(xs)\n",
    "    ns = tf.Variable(tf.zeros_like(xs, tf.float32))\n",
    "\n",
    "    tf.global_variables_initializer().run()\n",
    "\n",
    "    # Compute the new values of z: z^2 + x\n",
    "    zs_ = zs*zs + xs\n",
    "\n",
    "    # Have we diverged with this new value?\n",
    "    not_diverged = tf.abs(zs_) < 4\n",
    "\n",
    "    # Operation to update the zs and the iteration count\n",
    "    step = tf.group(\n",
    "      zs.assign(zs_),\n",
    "      ns.assign_add(tf.cast(not_diverged, tf.float32))\n",
    "      )\n",
    "\n",
    "    for i in range(200): step.run()\n",
    "    DisplayFractal(ns.eval())\n",
    "    sess.close()"
   ]
  },
  {
   "cell_type": "code",
   "execution_count": 13,
   "metadata": {},
   "outputs": [
    {
     "data": {
      "text/plain": [
       "A Jupyter Widget"
      ]
     },
     "metadata": {},
     "output_type": "display_data"
    }
   ],
   "source": [
    "def zoom_changed(zoomer, xoff, yoff):\n",
    "    zoom = zoomer\n",
    "    recalc(zoomer, xoff, yoff)\n",
    "    \n",
    "interact(zoom_changed, \n",
    "         zoomer = FloatSlider(min=1,max=50,step=0.5,value=1, continuous_update=False), \n",
    "         xoff = FloatSlider(min=-2, max=2, step=0.05, value=-0.5, continuous_update=False), \n",
    "         yoff = FloatSlider(min=-2, max=2, step=0.05, value=0.0, continuous_update=False));"
   ]
  },
  {
   "cell_type": "code",
   "execution_count": null,
   "metadata": {
    "collapsed": true
   },
   "outputs": [],
   "source": []
  }
 ],
 "metadata": {
  "kernelspec": {
   "display_name": "Python 3",
   "language": "python",
   "name": "python3"
  },
  "language_info": {
   "codemirror_mode": {
    "name": "ipython",
    "version": 3
   },
   "file_extension": ".py",
   "mimetype": "text/x-python",
   "name": "python",
   "nbconvert_exporter": "python",
   "pygments_lexer": "ipython3",
   "version": "3.6.3"
  }
 },
 "nbformat": 4,
 "nbformat_minor": 2
}
