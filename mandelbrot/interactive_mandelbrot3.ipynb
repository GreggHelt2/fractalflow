{
 "cells": [
  {
   "cell_type": "markdown",
   "metadata": {},
   "source": [
    "# an interactive version of Tensorflow Mandelbrot set tutorial\n",
    "based on original tutorial at https://www.tensorflow.org/tutorials/mandelbrot"
   ]
  },
  {
   "cell_type": "code",
   "execution_count": 1,
   "metadata": {
    "collapsed": true
   },
   "outputs": [],
   "source": [
    "# imports for simulation\n",
    "import tensorflow as tf\n",
    "import numpy as np\n",
    "\n",
    "# imports for visualization\n",
    "import PIL.Image\n",
    "from io import BytesIO\n",
    "from IPython.display import clear_output, Image, display\n",
    "\n",
    "# imports for interaction \n",
    "from ipywidgets import interact, FloatSlider\n",
    "import time"
   ]
  },
  {
   "cell_type": "code",
   "execution_count": 40,
   "metadata": {
    "collapsed": true
   },
   "outputs": [],
   "source": [
    "class Timer:\n",
    "    def __init__(self):\n",
    "        self.perf_start = time.perf_counter()\n",
    "        self.proc_start = time.process_time()\n",
    "    def restart(self):\n",
    "        self.perf_start = time.perf_counter()\n",
    "        self.proc_start = time.process_time()\n",
    "    def report(self):\n",
    "        return str(round((time.perf_counter()-self.perf_start),3))\n",
    "    def report_restart(self):\n",
    "        result = self.report()\n",
    "        self.restart()\n",
    "        return result"
   ]
  },
  {
   "cell_type": "code",
   "execution_count": 45,
   "metadata": {
    "collapsed": true
   },
   "outputs": [],
   "source": [
    "def DisplayFractal(a, fmt='jpeg'):\n",
    "  \"\"\"given a 2D array of escape-time iteration counts, \n",
    "     render as an image\"\"\"\n",
    "  a_cyclic = (6.28*a/20.0).reshape(list(a.shape)+[1])\n",
    "  img = np.concatenate([10+20*np.cos(a_cyclic),\n",
    "                        30+50*np.sin(a_cyclic),\n",
    "                        155-80*np.cos(a_cyclic)], 2)\n",
    "  img[a==a.max()] = 0\n",
    "  a = img\n",
    "  a = np.uint8(np.clip(a, 0, 255))\n",
    "  f = BytesIO()\n",
    "  PIL.Image.fromarray(a).save(f, fmt)\n",
    "  # clear_output(wait = True)\n",
    "  display(Image(data=f.getvalue()))"
   ]
  },
  {
   "cell_type": "code",
   "execution_count": 65,
   "metadata": {},
   "outputs": [
    {
     "name": "stdout",
     "output_type": "stream",
     "text": [
      "numpy: 0.013\n",
      "sess startup: 0.001\n",
      "graph setup: 2.081\n",
      "graph init: 0.74\n"
     ]
    }
   ],
   "source": [
    "tim1 = Timer()\n",
    "# numpy setup, result Z is 1D array of complex numbers\n",
    "Y, X = np.mgrid[-2.0:2.0:0.005, -2.0:2.0:0.005] \n",
    "Z = X+1j*Y\n",
    "print(\"numpy: \" + tim1.report_restart())\n",
    "\n",
    "tf.reset_default_graph()\n",
    "sess = tf.InteractiveSession()\n",
    "print(\"sess startup:\", tim1.report_restart())\n",
    "\n",
    "tzoom = tf.Variable(np.complex64(1)) # [1,1]\n",
    "toffset = tf.Variable(np.complex64(-0.5+0j))  # [-.5,0]\n",
    "xs = tf.Variable(Z.astype(np.complex64))\n",
    "recoord = tf.Variable(xs)\n",
    "zs = tf.Variable(xs)\n",
    "ns = tf.Variable(tf.zeros_like(xs, tf.float32))\n",
    "rezero = tf.Variable(tf.zeros_like(xs,tf.float32))\n",
    "\n",
    "# Compute the new values of z: z^2 + x\n",
    "zs_ = zs*zs + xs\n",
    "\n",
    "# Have we diverged with this new value?\n",
    "not_diverged = tf.abs(zs_) < 4\n",
    "\n",
    "print(\"graph setup:\", tim1.report_restart())\n",
    "tf.global_variables_initializer().run()\n",
    "print(\"graph init:\", tim1.report_restart())"
   ]
  },
  {
   "cell_type": "code",
   "execution_count": 68,
   "metadata": {},
   "outputs": [],
   "source": [
    "def recalc(zoom, xoffset, yoffset):\n",
    "    tim = Timer()\n",
    "    tim2 = Timer()\n",
    "    #coord = (xs * tzoom) + toffset\n",
    "    #zs.assign(coord)\n",
    "\n",
    "    # Operation to re-init variables\n",
    "    init = tf.group(\n",
    "      ns.assign(rezero), \n",
    "      tzoom.assign(np.complex64(zoom + 1j*zoom)), \n",
    "      toffset.assign(np.complex64(xoffset + 1j*yoffset)), \n",
    "      xs.assign(recoord/tzoom + toffset), \n",
    "      # zs.assign(xs)\n",
    "      zs.assign(recoord/tzoom + toffset)\n",
    "    )\n",
    "\n",
    "    # Operation to update the zs and the iteration count\n",
    "    step = tf.group(\n",
    "      zs.assign(zs_),\n",
    "      ns.assign_add(tf.cast(not_diverged, tf.float32))\n",
    "    )\n",
    "    \n",
    "    pre_init_time = tim.report_restart()\n",
    "    \n",
    "    init.run()\n",
    "    init_time = tim.report_restart()\n",
    "    \n",
    "    for i in range(100): step.run()\n",
    "    step_time = tim.report_restart()\n",
    "    \n",
    "    DisplayFractal(ns.eval())\n",
    "    display_time = tim.report_restart()\n",
    "    \n",
    "    print(\"scale=\" + str(zoom) + \", center=[\" + str(xoffset) + \":\" + str(yoffset) + \"]\")\n",
    "    print(\"pre_init:\", pre_init_time)\n",
    "    print(\"init:\", init_time)\n",
    "    print(\"step:\", step_time)\n",
    "    print(\"display:\", display_time)\n",
    "    print(\"total recalc time:\", tim2.report())"
   ]
  },
  {
   "cell_type": "code",
   "execution_count": 69,
   "metadata": {},
   "outputs": [
    {
     "data": {
      "application/vnd.jupyter.widget-view+json": {
       "model_id": "df2f89ae3dd048e5b4757186ddd22b89",
       "version_major": 2,
       "version_minor": 0
      },
      "text/plain": [
       "A Jupyter Widget"
      ]
     },
     "metadata": {},
     "output_type": "display_data"
    },
    {
     "data": {
      "text/plain": [
       "<function __main__.zoom_changed>"
      ]
     },
     "execution_count": 69,
     "metadata": {},
     "output_type": "execute_result"
    }
   ],
   "source": [
    "def zoom_changed(zoomer, xoff, yoff):\n",
    "    zoom = zoomer\n",
    "    recalc(zoomer, xoff, yoff)\n",
    "    \n",
    "interact(zoom_changed, \n",
    "         zoomer = FloatSlider(min=1,max=50,step=0.1,value=1, continuous_update=False), \n",
    "         xoff = FloatSlider(min=-2, max=2, step=0.05, value=-0.5, continuous_update=False), \n",
    "         yoff = FloatSlider(min=-2, max=2, step=0.05, value=0.0, continuous_update=False))"
   ]
  },
  {
   "cell_type": "code",
   "execution_count": 6,
   "metadata": {
    "collapsed": true
   },
   "outputs": [],
   "source": [
    "# sess.close()"
   ]
  },
  {
   "cell_type": "code",
   "execution_count": null,
   "metadata": {
    "collapsed": true
   },
   "outputs": [],
   "source": []
  }
 ],
 "metadata": {
  "kernelspec": {
   "display_name": "Python 3",
   "language": "python",
   "name": "python3"
  },
  "language_info": {
   "codemirror_mode": {
    "name": "ipython",
    "version": 3
   },
   "file_extension": ".py",
   "mimetype": "text/x-python",
   "name": "python",
   "nbconvert_exporter": "python",
   "pygments_lexer": "ipython3",
   "version": "3.6.3"
  }
 },
 "nbformat": 4,
 "nbformat_minor": 2
}
