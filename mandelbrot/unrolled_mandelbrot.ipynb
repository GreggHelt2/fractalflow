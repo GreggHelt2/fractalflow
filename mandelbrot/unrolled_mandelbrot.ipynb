{
 "cells": [
  {
   "cell_type": "markdown",
   "metadata": {},
   "source": [
    "# Mandelbrot set in Tensorflow: unrolling iteration steps as dataflow graph"
   ]
  },
  {
   "cell_type": "code",
   "execution_count": 1,
   "metadata": {},
   "outputs": [],
   "source": [
    "# imports for simulation\n",
    "import tensorflow as tf\n",
    "import numpy as np\n",
    "\n",
    "# imports for visualization\n",
    "import PIL.Image\n",
    "from io import BytesIO\n",
    "from IPython.display import clear_output, Image, display\n",
    "\n",
    "# imports for interaction \n",
    "from ipywidgets import interact, FloatSlider\n",
    "import time\n",
    "\n",
    "sess = tf.InteractiveSession()"
   ]
  },
  {
   "cell_type": "code",
   "execution_count": 2,
   "metadata": {},
   "outputs": [],
   "source": [
    "class Timer:\n",
    "    def __init__(self):\n",
    "        self.perf_start = time.perf_counter()\n",
    "        self.proc_start = time.process_time()\n",
    "    def restart(self):\n",
    "        self.perf_start = time.perf_counter()\n",
    "        self.proc_start = time.process_time()\n",
    "    def report(self):\n",
    "        return str(round((time.perf_counter()-self.perf_start),3))\n",
    "    def report_restart(self):\n",
    "        result = self.report()\n",
    "        self.restart()\n",
    "        return result"
   ]
  },
  {
   "cell_type": "code",
   "execution_count": 3,
   "metadata": {},
   "outputs": [],
   "source": [
    "def DisplayFractal(a, fmt='jpeg'):\n",
    "  \"\"\"given a 2D array of escape-time iteration counts, \n",
    "     render as an image\"\"\"\n",
    "  a_cyclic = (6.28*a/20.0).reshape(list(a.shape)+[1])\n",
    "  img = np.concatenate([10+20*np.cos(a_cyclic),\n",
    "                        30+50*np.sin(a_cyclic),\n",
    "                        155-80*np.cos(a_cyclic)], 2)\n",
    "  img[a==a.max()] = 0\n",
    "  a = img\n",
    "  a = np.uint8(np.clip(a, 0, 255))\n",
    "  f = BytesIO()\n",
    "  PIL.Image.fromarray(a).save(f, fmt)\n",
    "  clear_output(wait = True)\n",
    "  display(Image(data=f.getvalue()))"
   ]
  },
  {
   "cell_type": "code",
   "execution_count": 4,
   "metadata": {},
   "outputs": [
    {
     "name": "stdout",
     "output_type": "stream",
     "text": [
      "<class 'numpy.ndarray'>\n",
      "numpy: 0.009\n",
      "sess startup: 0.001\n",
      "graph setup: 1.573\n",
      "graph init: 0.311\n"
     ]
    }
   ],
   "source": [
    "tim1 = Timer()\n",
    "maxiter = 200\n",
    "# numpy setup, result Z is 1D array of complex numbers\n",
    "nY, nX = np.mgrid[-2.0:2.0:0.005, -2.0:2.0:0.005] \n",
    "nZ = nX+1j*nY\n",
    "print(type(nZ))\n",
    "print(\"numpy: \" + tim1.report_restart())\n",
    "\n",
    "sess.close()\n",
    "tf.reset_default_graph()\n",
    "sess = tf.InteractiveSession()\n",
    "print(\"sess startup:\", tim1.report_restart())\n",
    "\n",
    "tzoom = tf.placeholder(np.complex64, shape=())\n",
    "toffset = tf.placeholder(np.complex64, shape=())\n",
    "C = tf.Variable(nZ.astype(np.complex64))\n",
    "C = C/tzoom + toffset\n",
    "Z = C\n",
    "M = tf.Variable(tf.zeros_like(C, tf.float32))\n",
    "\n",
    "for i in range(maxiter):\n",
    "    Z = Z*Z + C\n",
    "    not_diverged = (tf.abs(Z) <= 4)\n",
    "    M = M + tf.cast(not_diverged, tf.float32)\n",
    "    \n",
    "# recoord = tf.Variable(C)\n",
    "# rezero = tf.Variable(tf.zeros_like(C,tf.float32))\n",
    "\n",
    "print(\"graph setup:\", tim1.report_restart())\n",
    "tf.global_variables_initializer().run()\n",
    "print(\"graph init:\", tim1.report_restart())\n",
    "#C.eval(feed_dict = {tzoom:(1.0+1.0j), toffset:(-0.5+0.0j)})\n",
    "# DisplayFractal(M.eval(feed_dict = {tzoom:(1.0+1.0j), toffset:(-0.5+0.0j)}))\n",
    "# print(\"graph compute/display:\", tim1.report_restart())\n",
    "\n"
   ]
  },
  {
   "cell_type": "code",
   "execution_count": 5,
   "metadata": {},
   "outputs": [
    {
     "data": {
      "application/vnd.jupyter.widget-view+json": {
       "model_id": "e346f390639f4184b6b4d1fec969cfdd",
       "version_major": 2,
       "version_minor": 0
      },
      "text/html": [
       "<p>Failed to display Jupyter Widget of type <code>interactive</code>.</p>\n",
       "<p>\n",
       "  If you're reading this message in Jupyter Notebook or JupyterLab, it may mean\n",
       "  that the widgets JavaScript is still loading. If this message persists, it\n",
       "  likely means that the widgets JavaScript library is either not installed or\n",
       "  not enabled. See the <a href=\"https://ipywidgets.readthedocs.io/en/stable/user_install.html\">Jupyter\n",
       "  Widgets Documentation</a> for setup instructions.\n",
       "</p>\n",
       "<p>\n",
       "  If you're reading this message in another notebook frontend (for example, a static\n",
       "  rendering on GitHub or <a href=\"https://nbviewer.jupyter.org/\">NBViewer</a>),\n",
       "  it may mean that your frontend doesn't currently support widgets.\n",
       "</p>\n"
      ],
      "text/plain": [
       "interactive(children=(FloatSlider(value=1.0, description='zoomer', max=50.0, min=1.0), FloatSlider(value=-0.5, description='xoff', max=2.0, min=-2.0, step=0.05), FloatSlider(value=0.0, description='yoff', max=2.0, min=-2.0, step=0.05), Output()), _dom_classes=('widget-interact',))"
      ]
     },
     "metadata": {},
     "output_type": "display_data"
    },
    {
     "data": {
      "text/plain": [
       "<function __main__.view_changed>"
      ]
     },
     "execution_count": 5,
     "metadata": {},
     "output_type": "execute_result"
    }
   ],
   "source": [
    "def view_changed(zoomer, xoff, yoff): \n",
    "    vtime = Timer()\n",
    "    zscaling = zoomer + 1j*zoomer\n",
    "    zoffset = xoff + 1j*yoff\n",
    "    result = M.eval(feed_dict = {tzoom: zscaling, toffset: zoffset})\n",
    "    compute_time = vtime.report_restart()\n",
    "    DisplayFractal(result)\n",
    "    display_time = vtime.report_restart()\n",
    "    print(\"compute time: \" + compute_time)\n",
    "    print(\"display time: \" + display_time)\n",
    "    \n",
    "interact(view_changed, \n",
    "         zoomer = FloatSlider(min=1,max=50,step=0.1,value=1, continuous_update=True), \n",
    "         xoff = FloatSlider(min=-2, max=2, step=0.05, value=-0.5, continuous_update=True), \n",
    "         yoff = FloatSlider(min=-2, max=2, step=0.05, value=0.0, continuous_update=True))"
   ]
  },
  {
   "cell_type": "code",
   "execution_count": 6,
   "metadata": {},
   "outputs": [],
   "source": [
    "# sess.close()"
   ]
  },
  {
   "cell_type": "code",
   "execution_count": null,
   "metadata": {},
   "outputs": [],
   "source": []
  }
 ],
 "metadata": {
  "kernelspec": {
   "display_name": "Python 3",
   "language": "python",
   "name": "python3"
  },
  "language_info": {
   "codemirror_mode": {
    "name": "ipython",
    "version": 3
   },
   "file_extension": ".py",
   "mimetype": "text/x-python",
   "name": "python",
   "nbconvert_exporter": "python",
   "pygments_lexer": "ipython3",
   "version": "3.5.4"
  }
 },
 "nbformat": 4,
 "nbformat_minor": 2
}
