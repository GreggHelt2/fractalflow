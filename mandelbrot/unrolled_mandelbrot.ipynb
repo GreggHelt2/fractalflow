{
 "cells": [
  {
   "cell_type": "markdown",
   "metadata": {},
   "source": [
    "# Mandelbrot set in Tensorflow: unrolling iteration steps as dataflow graph"
   ]
  },
  {
   "cell_type": "code",
   "execution_count": 1,
   "metadata": {
    "collapsed": true
   },
   "outputs": [],
   "source": [
    "# imports for simulation\n",
    "import tensorflow as tf\n",
    "import numpy as np\n",
    "\n",
    "# imports for visualization\n",
    "import PIL.Image\n",
    "from io import BytesIO\n",
    "from IPython.display import clear_output, Image, display\n",
    "\n",
    "# imports for interaction \n",
    "from ipywidgets import interact, FloatSlider\n",
    "import time\n",
    "\n",
    "sess = tf.InteractiveSession()"
   ]
  },
  {
   "cell_type": "code",
   "execution_count": 2,
   "metadata": {
    "collapsed": true
   },
   "outputs": [],
   "source": [
    "class Timer:\n",
    "    def __init__(self):\n",
    "        self.perf_start = time.perf_counter()\n",
    "        self.proc_start = time.process_time()\n",
    "    def report(self):\n",
    "        return str(round((time.perf_counter()-self.perf_start),3))\n",
    "    def reset(self):\n",
    "        result = self.report()\n",
    "        self.perf_start = time.perf_counter()\n",
    "        self.proc_start = time.process_time()\n",
    "        return result"
   ]
  },
  {
   "cell_type": "code",
   "execution_count": null,
   "metadata": {
    "collapsed": true
   },
   "outputs": [],
   "source": [
    "def DisplayFractal(a, fmt='jpeg'):\n",
    "  \"\"\"given a 2D array of escape-time iteration counts, \n",
    "     render as an image\"\"\"\n",
    "  ashape = a.shape\n",
    "  a_cyclic = (6.28*a/20.0).reshape(list(a.shape)+[1])\n",
    "  img = np.concatenate([10+20*np.cos(a_cyclic),\n",
    "                        30+50*np.sin(a_cyclic),\n",
    "                        155-80*np.cos(a_cyclic)], 2)\n",
    "  img[a==a.max()] = 0     # if reach max counts then not diverged, so setting  to 0\n",
    "  a = img\n",
    "  print(img.size)\n",
    "  a = np.uint8(np.clip(a, 0, 255))\n",
    "  f = BytesIO()\n",
    "  PIL.Image.fromarray(a).save(f, fmt)\n",
    "  clear_output(wait = True)\n",
    "  display(Image(data=f.getvalue()))\n",
    "  print(\" inshape:\", ashape)\n",
    "  print(\"  cshape:\", a_cyclic.shape)\n",
    "  print(\"outshape:\", img.shape)"
   ]
  },
  {
   "cell_type": "code",
   "execution_count": 42,
   "metadata": {},
   "outputs": [
    {
     "name": "stdout",
     "output_type": "stream",
     "text": [
      "<class 'numpy.ndarray'>\n",
      "(800, 800)\n",
      "numpy: 0.02\n",
      "sess startup: 0.003\n",
      "graph setup: 1.861\n",
      "graph init: 0.106\n"
     ]
    }
   ],
   "source": [
    "tim1 = Timer()\n",
    "maxiter = 200\n",
    "# numpy setup, result Z is 1D array of complex numbers\n",
    "nY, nX = np.mgrid[-2.0:2.0:0.005, -2.0:2.0:0.005] \n",
    "nZ = nX+1j*nY\n",
    "print(type(nZ))\n",
    "print(nZ.shape)\n",
    "print(\"numpy: \" + tim1.reset())\n",
    "\n",
    "sess.close()\n",
    "tf.reset_default_graph()\n",
    "sess = tf.InteractiveSession()\n",
    "print(\"sess startup:\", tim1.reset())\n",
    "\n",
    "tzoom = tf.placeholder(np.complex64, shape=())\n",
    "toffset = tf.placeholder(np.complex64, shape=())\n",
    "C = tf.Variable(nZ.astype(np.complex64))\n",
    "C = C/tzoom + toffset\n",
    "Z = C\n",
    "M = tf.Variable(tf.zeros_like(C, tf.float32))\n",
    "\n",
    "\n",
    "for i in range(maxiter):\n",
    "    Z = Z*Z + C\n",
    "    not_diverged = (tf.abs(Z) <= 4)\n",
    "    M = M + tf.cast(not_diverged, tf.float32)\n",
    "\n",
    "# diverged = (tf.abs(Z) > 4)\n",
    "# M = M * tf.cast(diverged, tf.float32)\n",
    "\n",
    "print(\"graph setup:\", tim1.reset())\n",
    "tf.global_variables_initializer().run()\n",
    "print(\"graph init:\", tim1.reset())\n"
   ]
  },
  {
   "cell_type": "code",
   "execution_count": 43,
   "metadata": {},
   "outputs": [
    {
     "data": {},
     "metadata": {},
     "output_type": "display_data"
    },
    {
     "data": {
      "text/plain": [
       "<function __main__.view_changed>"
      ]
     },
     "execution_count": 43,
     "metadata": {},
     "output_type": "execute_result"
    }
   ],
   "source": [
    "def view_changed(zoomer, xoff, yoff): \n",
    "    vtime = Timer()\n",
    "    zscaling = zoomer + 0j*zoomer\n",
    "    zoffset = xoff + 1j*yoff\n",
    "    result = M.eval(feed_dict = {tzoom: zscaling, toffset: zoffset})\n",
    "    compute_time = vtime.reset()\n",
    "    print(result.size)\n",
    "    result2 = result.reshape(list(result.shape)+[1])\n",
    "    print(result2.size)\n",
    "    DisplayFractal(result)\n",
    "    display_time = vtime.reset()\n",
    "    print(\"compute time: \" + compute_time)\n",
    "    print(\"display time: \" + display_time)\n",
    "    \n",
    "interact(view_changed, \n",
    "         zoomer = FloatSlider(min=1,max=50,step=0.1,value=1, continuous_update=True), \n",
    "         xoff = FloatSlider(min=-2, max=2, step=0.05, value=-0.5, continuous_update=True), \n",
    "         yoff = FloatSlider(min=-2, max=2, step=0.05, value=0.0, continuous_update=True))"
   ]
  },
  {
   "cell_type": "code",
   "execution_count": null,
   "metadata": {
    "collapsed": true
   },
   "outputs": [],
   "source": []
  }
 ],
 "metadata": {
  "kernelspec": {
   "display_name": "Python 3",
   "language": "python",
   "name": "python3"
  },
  "language_info": {
   "codemirror_mode": {
    "name": "ipython",
    "version": 3
   },
   "file_extension": ".py",
   "mimetype": "text/x-python",
   "name": "python",
   "nbconvert_exporter": "python",
   "pygments_lexer": "ipython3",
   "version": "3.6.1"
  }
 },
 "nbformat": 4,
 "nbformat_minor": 2
}
