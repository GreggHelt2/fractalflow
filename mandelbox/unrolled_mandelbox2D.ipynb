{
 "cells": [
  {
   "cell_type": "markdown",
   "metadata": {},
   "source": [
    "# Mandelbox2D in Tensorflow"
   ]
  },
  {
   "cell_type": "code",
   "execution_count": 1,
   "metadata": {
    "collapsed": true
   },
   "outputs": [],
   "source": [
    "# imports for simulation\n",
    "import tensorflow as tf\n",
    "import numpy as np\n",
    "\n",
    "# imports for visualization\n",
    "import PIL.Image\n",
    "from io import BytesIO\n",
    "from IPython.display import clear_output, Image, display\n",
    "\n",
    "# imports for interaction \n",
    "from ipywidgets import interact, FloatSlider\n",
    "import time\n",
    "\n",
    "sess = tf.InteractiveSession()"
   ]
  },
  {
   "cell_type": "code",
   "execution_count": 2,
   "metadata": {
    "collapsed": true
   },
   "outputs": [],
   "source": [
    "class Timer:\n",
    "    def __init__(self):\n",
    "        self.perf_start = time.perf_counter()\n",
    "        self.proc_start = time.process_time()\n",
    "    def report(self):\n",
    "        return str(round((time.perf_counter()-self.perf_start),3))\n",
    "    def reset(self):\n",
    "        result = self.report()\n",
    "        self.perf_start = time.perf_counter()\n",
    "        self.proc_start = time.process_time()\n",
    "        return result"
   ]
  },
  {
   "cell_type": "code",
   "execution_count": 3,
   "metadata": {
    "collapsed": true
   },
   "outputs": [],
   "source": [
    "def DisplayFractal(a, fmt='jpeg'):\n",
    "  \"\"\"given a 2D array of escape-time iteration counts, \n",
    "     render as an image\"\"\"\n",
    "  ashape = a.shape\n",
    "  # a_cyclic = (6.28*a/20.0).reshape(list(a.shape)+[1])\n",
    "\n",
    "  # img = np.concatenate([10+20*np.cos(a_cyclic),\n",
    "  #                      30+50*np.sin(a_cyclic),\n",
    "   #                      155-80*np.cos(a_cyclic)], 2)\n",
    "  atmp = a.reshape(list(a.shape)+[1])\n",
    "  img = np.concatenate([atmp, atmp, atmp], 2)\n",
    "  # img[a==a.max()] = 0     # if reach max counts then not diverged, so setting  to 0\n",
    "  a = img\n",
    "  print(img.size)\n",
    "  a = np.uint8(np.clip(a, 0, 255))\n",
    "  f = BytesIO()\n",
    "  PIL.Image.fromarray(a).save(f, fmt)\n",
    "  clear_output(wait = True)\n",
    "  display(Image(data=f.getvalue()))\n",
    "  print(\" inshape:\", ashape)\n",
    "  # print(\"  cshape:\", a_cyclic.shape)\n",
    "  print(\"  cshape:\", atmp.shape)\n",
    "  print(\"outshape:\", img.shape)"
   ]
  },
  {
   "cell_type": "code",
   "execution_count": 4,
   "metadata": {},
   "outputs": [
    {
     "name": "stdout",
     "output_type": "stream",
     "text": [
      "sess startup: 0.002\n",
      "(700, 700) (700, 700)\n",
      "numpy: 0.004\n"
     ]
    }
   ],
   "source": [
    "tim1 = Timer()\n",
    "sess.close()\n",
    "tf.reset_default_graph()\n",
    "sess = tf.InteractiveSession()\n",
    "print(\"sess startup:\", tim1.reset())\n",
    "\n",
    "# numpy setup\n",
    "nY, nX = np.mgrid[-7.0:7.0:0.020, -7.0:7.0:0.020] \n",
    "print(nX.shape, nY.shape)\n",
    "print(\"numpy: \" + tim1.reset())\n",
    "\n",
    "X = tf.Variable(nX, tf.float32)\n",
    "Y = tf.Variable(nY, tf.float32)\n",
    "Cx = X\n",
    "Cy = Y\n",
    "M = tf.Variable(tf.zeros_like(X, tf.float32))\n",
    "# Zed = tf.constant(0.0, tf.float64)\n",
    "scale = tf.placeholder(np.float64, shape=())\n",
    "escape_distance = tf.placeholder(np.float64, shape=())\n",
    "inner_radius = tf.placeholder(np.float64, shape=())\n",
    "outer_radius = tf.placeholder(np.float64, shape=())\n",
    "boxfold = tf.placeholder(np.float64, shape=())\n",
    "boxfold2 = 2*boxfold\n",
    "tf.global_variables_initializer().run()\n",
    "maxiter = 15\n",
    "\n",
    "for i in range(maxiter):\n",
    "    # Mandelbox Ballfold:\n",
    "    #\n",
    "    # need to either set up conditional ops before modifying, \n",
    "    #    or introduce temp variable to hold intermediate half-fold\n",
    "\n",
    "    # Option2: introducing temp variable\n",
    "    #tempX1 = tf.where(X>1, 2-X, X)\n",
    "    #X = tf.where(X<-1, -2-X, tempX1)\n",
    "\n",
    "    # Option1: setting up conditional ops first\n",
    "    #   actually in this case would only need to set up LowX, could inline the other, \n",
    "    #   but \n",
    "    HighX = X > boxfold\n",
    "    LowX = X < -boxfold\n",
    "    X = tf.where(HighX, boxfold2-X, X)\n",
    "    X = tf.where(LowX, -boxfold2-X, X)\n",
    "\n",
    "    HighY = Y > boxfold\n",
    "    LowY = Y < -boxfold\n",
    "    Y = tf.where(HighY, boxfold2-Y, Y)\n",
    "    Y = tf.where(LowY, -boxfold2-Y, Y)\n",
    "\n",
    "    # Mandelbox Spherefold\n",
    "    # getting distance^2\n",
    "    R2 = X*X + Y*Y\n",
    "    R = tf.sqrt(R2)\n",
    "    LowR = R < inner_radius\n",
    "    MidR = (R >= inner_radius) & (R < outer_radius)\n",
    "    #  HighR: if R >= 1 do nothing, so don't need conditional for this\n",
    "    X = tf.where(LowR, X*4, X)\n",
    "    X = tf.where(MidR, X/R2, X)\n",
    "    Y = tf.where(LowR, Y*4, Y)\n",
    "    Y = tf.where(MidR, Y/R2, Y)\n",
    "\n",
    "    # Mandelbox scale and translate\n",
    "    X = scale * X + Cx\n",
    "    Y = scale * Y + Cy\n",
    "\n",
    "M = tf.sqrt(X*X + Y*Y)\n",
    "not_diverged = M < escape_distance\n",
    "not_diverged = tf.cast(not_diverged, tf.float32) * 200\n",
    "\n",
    "# tf.global_variables_initializer().run()\n",
    "#B = tf.where(M>=escape_distance, Zed, X)\n"
   ]
  },
  {
   "cell_type": "code",
   "execution_count": 6,
   "metadata": {},
   "outputs": [
    {
     "data": {
      "application/vnd.jupyter.widget-view+json": {
       "model_id": "41b7bfbddfe34c0da7ff9d6ac08e6555"
      }
     },
     "metadata": {},
     "output_type": "display_data"
    },
    {
     "data": {
      "text/plain": [
       "<function __main__.view_changed>"
      ]
     },
     "execution_count": 6,
     "metadata": {},
     "output_type": "execute_result"
    }
   ],
   "source": [
    "def view_changed(scaling, fold, iradius, oradius, escape): \n",
    "    vtime = Timer()\n",
    "    # result = M.eval(feed_dict = {scale: scaling, escape_distance: zoffset})\n",
    "    result = not_diverged.eval(feed_dict={scale:scaling, \n",
    "                                          boxfold:fold, \n",
    "                                          inner_radius:iradius, \n",
    "                                          outer_radius:oradius,\n",
    "                                          escape_distance:escape}) \n",
    "    compute_time = vtime.reset()\n",
    "    print(result.size)\n",
    "    #result2 = result.reshape(list(result.shape)+[1])\n",
    "    #print(result2.size)\n",
    "    DisplayFractal(result)\n",
    "    display_time = vtime.reset()\n",
    "    print(\"compute time: \" + compute_time)\n",
    "    print(\"display time: \" + display_time)\n",
    "    \n",
    "interact(view_changed,  \n",
    "         scaling = FloatSlider(min=-4,max=4,step=0.05,value=2, continuous_update=False), \n",
    "         fold = FloatSlider(min=0, max=4, step=0.05, value=1, continuous_update=False), \n",
    "         iradius = FloatSlider(min=0, max=2, step=0.05, value=0.5, continuous_update=False), \n",
    "         oradius = FloatSlider(min=0.1, max=4, step=0.05, value=1.0, continuous_update=False), \n",
    "         escape = FloatSlider(min=1, max=200, step=1, value=100, continuous_update=False),\n",
    "        )"
   ]
  },
  {
   "cell_type": "markdown",
   "metadata": {
    "collapsed": true
   },
   "source": [
    "Filler\n",
    "\n",
    "Filler\n",
    "\n",
    "Filler\n",
    "\n",
    "Filler\n",
    "\n",
    "Filler\n",
    "\n",
    "Filler\n",
    "\n",
    "Filler\n",
    "\n",
    "Filler\n",
    "\n",
    "Filler\n",
    "\n",
    "Filler\n",
    "\n",
    "Filler\n",
    "\n",
    "Filler\n",
    "<br>\n",
    "<br>\n",
    "<br>\n",
    "<br>\n",
    "\n",
    "Filler\n",
    "\n",
    "<br>\n",
    "<br>\n",
    "<br>\n",
    "<br>\n",
    "<br>\n",
    "<br>\n",
    "\n",
    "\n",
    "Filler\n",
    "\n",
    "<br>\n",
    "<br>\n",
    "\n",
    "Filler\n",
    "\n",
    "\n"
   ]
  },
  {
   "cell_type": "code",
   "execution_count": null,
   "metadata": {
    "collapsed": true
   },
   "outputs": [],
   "source": []
  }
 ],
 "metadata": {
  "kernelspec": {
   "display_name": "Python 3",
   "language": "python",
   "name": "python3"
  },
  "language_info": {
   "codemirror_mode": {
    "name": "ipython",
    "version": 3
   },
   "file_extension": ".py",
   "mimetype": "text/x-python",
   "name": "python",
   "nbconvert_exporter": "python",
   "pygments_lexer": "ipython3",
   "version": "3.6.1"
  }
 },
 "nbformat": 4,
 "nbformat_minor": 2
}
